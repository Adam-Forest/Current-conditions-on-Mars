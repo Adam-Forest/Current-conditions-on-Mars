{
 "cells": [
  {
   "cell_type": "code",
   "execution_count": 25,
   "metadata": {},
   "outputs": [],
   "source": [
    "# import and setup dependencies\n",
    "\n",
    "# to scrape from html\n",
    "from bs4 import BeautifulSoup as bs\n",
    "\n",
    "# to control browser\n",
    "from splinter import Browser\n",
    "browser = Browser(\"chrome\", headless=False)\n",
    "\n",
    "# to format data\n",
    "import pandas as pd\n",
    "\n",
    "# to format URLs\n",
    "from urllib.parse import urlsplit\n",
    "\n",
    "# for pause\n",
    "import time"
   ]
  },
  {
   "cell_type": "code",
   "execution_count": 2,
   "metadata": {},
   "outputs": [],
   "source": [
    "# set url to NASA news site and visit with splinter\n",
    "url = \"https://mars.nasa.gov/news/\"\n",
    "browser.visit(url)"
   ]
  },
  {
   "cell_type": "code",
   "execution_count": 3,
   "metadata": {},
   "outputs": [],
   "source": [
    "# get html from splinter and give to BeautifulSoup\n",
    "html = browser.html\n",
    "page_to_parse = bs(html,\"html.parser\")"
   ]
  },
  {
   "cell_type": "code",
   "execution_count": 10,
   "metadata": {},
   "outputs": [
    {
     "name": "stdout",
     "output_type": "stream",
     "text": [
      "Scientists Explore Outback as Testbed for Mars \n",
      "Australia provides a great place for NASA's Mars 2020 and the ESA-Roscosmos ExoMars scientists to hone techniques in preparation for searching for signs ancient life on Mars.\n"
     ]
    }
   ],
   "source": [
    "# use soup to pull first article title and paragraph\n",
    "news_title = page_to_parse.find(\"div\",class_=\"content_title\").find(\"a\").text\n",
    "news_p = page_to_parse.find(\"div\", class_=\"article_teaser_body\").text\n",
    "\n",
    "# print to check\n",
    "print(news_title)\n",
    "print(news_p)"
   ]
  },
  {
   "cell_type": "code",
   "execution_count": 16,
   "metadata": {},
   "outputs": [],
   "source": [
    "# set link to get jpl image, send splinter to fetch\n",
    "browser = Browser(\"chrome\", headless=False)\n",
    "jpl_image_url = \"https://www.jpl.nasa.gov/spaceimages/?search=&category=Mars\"\n",
    "browser.visit(jpl_image_url)"
   ]
  },
  {
   "cell_type": "code",
   "execution_count": 17,
   "metadata": {},
   "outputs": [],
   "source": [
    "# navigate browser to full size image\n",
    "browser.click_link_by_partial_text('FULL IMAGE')\n",
    "# give page time to load\n",
    "time.sleep(5)\n",
    "browser.click_link_by_partial_text('more info')"
   ]
  },
  {
   "cell_type": "code",
   "execution_count": 18,
   "metadata": {},
   "outputs": [],
   "source": [
    "# get html from splinter and give to BeautifulSoup\n",
    "html = browser.html\n",
    "page_to_parse = bs(html,\"html.parser\")"
   ]
  },
  {
   "cell_type": "code",
   "execution_count": 36,
   "metadata": {},
   "outputs": [
    {
     "name": "stdout",
     "output_type": "stream",
     "text": [
      "https://www.jpl.nasa.gov\n",
      "/spaceimages/images/largesize/PIA17440_hires.jpg\n",
      "https://www.jpl.nasa.gov/spaceimages/images/largesize/PIA17440_hires.jpg\n"
     ]
    }
   ],
   "source": [
    "# find image url with soup\n",
    "img_src = page_to_parse.find('img', class_='main_image').get('src')\n",
    "\n",
    "# get the base url\n",
    "base_url = \"{0.scheme}://{0.netloc}\".format(urlsplit(jpl_image_url))\n",
    "\n",
    "# put them together\n",
    "featured_image_url=base_url + img_src\n",
    "\n",
    "# print to check\n",
    "print(base_url)\n",
    "print(img_src)\n",
    "print(featured_image_url)"
   ]
  },
  {
   "cell_type": "code",
   "execution_count": null,
   "metadata": {},
   "outputs": [],
   "source": []
  }
 ],
 "metadata": {
  "kernelspec": {
   "display_name": "Python [conda env:.conda-PythonData] *",
   "language": "python",
   "name": "conda-env-.conda-PythonData-py"
  },
  "language_info": {
   "codemirror_mode": {
    "name": "ipython",
    "version": 3
   },
   "file_extension": ".py",
   "mimetype": "text/x-python",
   "name": "python",
   "nbconvert_exporter": "python",
   "pygments_lexer": "ipython3",
   "version": "3.6.8"
  }
 },
 "nbformat": 4,
 "nbformat_minor": 2
}
