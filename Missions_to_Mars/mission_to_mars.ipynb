{
 "cells": [
  {
   "cell_type": "markdown",
   "metadata": {},
   "source": [
    "## Mission to Mars"
   ]
  },
  {
   "cell_type": "code",
   "execution_count": 136,
   "metadata": {},
   "outputs": [],
   "source": [
    "# import and setup dependencies\n",
    "\n",
    "# to scrape from html\n",
    "from bs4 import BeautifulSoup as bs\n",
    "\n",
    "# to control browser\n",
    "from splinter import Browser\n",
    "browser = Browser(\"chrome\", headless=False)\n",
    "\n",
    "# to format data\n",
    "import pandas as pd\n",
    "\n",
    "# to format URLs\n",
    "from urllib.parse import urlsplit\n",
    "\n",
    "# for pause\n",
    "import time"
   ]
  },
  {
   "cell_type": "markdown",
   "metadata": {},
   "source": [
    "### NASA Mars News"
   ]
  },
  {
   "cell_type": "code",
   "execution_count": 137,
   "metadata": {},
   "outputs": [],
   "source": [
    "# set url to NASA news site and visit with splinter\n",
    "url = \"https://mars.nasa.gov/news/\"\n",
    "browser.visit(url)"
   ]
  },
  {
   "cell_type": "code",
   "execution_count": 138,
   "metadata": {},
   "outputs": [],
   "source": [
    "# get html from splinter and give to BeautifulSoup\n",
    "html = browser.html\n",
    "page_to_parse = bs(html,\"html.parser\")"
   ]
  },
  {
   "cell_type": "code",
   "execution_count": 139,
   "metadata": {},
   "outputs": [
    {
     "name": "stdout",
     "output_type": "stream",
     "text": [
      "What's Mars Solar Conjunction, and Why Does It Matter?\n",
      "NASA spacecraft at Mars are going to be on their own for a few weeks when the Sun comes between Mars and Earth, interrupting communications.\n"
     ]
    }
   ],
   "source": [
    "# use soup to pull first article title and paragraph\n",
    "news_title = page_to_parse.find(\"div\",class_=\"content_title\").find(\"a\").text\n",
    "news_p = page_to_parse.find(\"div\", class_=\"article_teaser_body\").text\n",
    "\n",
    "# print to check\n",
    "print(news_title)\n",
    "print(news_p)"
   ]
  },
  {
   "cell_type": "markdown",
   "metadata": {},
   "source": [
    "### JPL Mars Space Images - Featured Image"
   ]
  },
  {
   "cell_type": "code",
   "execution_count": 140,
   "metadata": {},
   "outputs": [],
   "source": [
    "# set link to get jpl image, send splinter to fetch\n",
    "jpl_image_url = \"https://www.jpl.nasa.gov/spaceimages/?search=&category=Mars\"\n",
    "browser.visit(jpl_image_url)"
   ]
  },
  {
   "cell_type": "code",
   "execution_count": 141,
   "metadata": {},
   "outputs": [],
   "source": [
    "# navigate browser to full size image\n",
    "browser.click_link_by_partial_text('FULL IMAGE')\n",
    "# give page time to load\n",
    "time.sleep(5)\n",
    "browser.click_link_by_partial_text('more info')"
   ]
  },
  {
   "cell_type": "code",
   "execution_count": 142,
   "metadata": {},
   "outputs": [],
   "source": [
    "# get html from splinter and give to BeautifulSoup\n",
    "html = browser.html\n",
    "page_to_parse = bs(html,\"html.parser\")"
   ]
  },
  {
   "cell_type": "code",
   "execution_count": 143,
   "metadata": {},
   "outputs": [
    {
     "name": "stdout",
     "output_type": "stream",
     "text": [
      "https://www.jpl.nasa.gov\n",
      "/spaceimages/images/largesize/PIA18840_hires.jpg\n",
      "https://www.jpl.nasa.gov/spaceimages/images/largesize/PIA18840_hires.jpg\n"
     ]
    }
   ],
   "source": [
    "# find image url with soup\n",
    "img_src = page_to_parse.find('img', class_='main_image').get('src')\n",
    "\n",
    "# get the base url\n",
    "base_url = \"{0.scheme}://{0.netloc}\".format(urlsplit(jpl_image_url))\n",
    "\n",
    "# put them together\n",
    "featured_image_url=base_url + img_src\n",
    "\n",
    "# print to check\n",
    "print(base_url)\n",
    "print(img_src)\n",
    "print(featured_image_url)"
   ]
  },
  {
   "cell_type": "markdown",
   "metadata": {},
   "source": [
    "### Mars Weather"
   ]
  },
  {
   "cell_type": "code",
   "execution_count": 144,
   "metadata": {},
   "outputs": [],
   "source": [
    "#get weather tweet\n",
    "tweet_url = \"https://twitter.com/marswxreport?lang=en\"\n",
    "browser.visit(tweet_url)"
   ]
  },
  {
   "cell_type": "code",
   "execution_count": 145,
   "metadata": {},
   "outputs": [
    {
     "name": "stdout",
     "output_type": "stream",
     "text": [
      "InSight sol 259 (2019-08-19) low -101.0ºC (-149.8ºF) high -27.1ºC (-16.9ºF)\n",
      "winds from the SW at 4.3 m/s (9.6 mph) gusting to 17.6 m/s (39.4 mph)\n",
      "pressure at 7.60 hPa\n"
     ]
    }
   ],
   "source": [
    "# xpath to tweet div\n",
    "tweet_xpath='//*[@id=\"stream-item-tweet-1164580766023606272\"]/div[1]/div[2]/div[2]/p'\n",
    "mars_weather  = browser.find_by_xpath(tweet_xpath).text\n",
    "\n",
    "# print to check\n",
    "print(mars_weather )"
   ]
  },
  {
   "cell_type": "markdown",
   "metadata": {},
   "source": [
    "### Mars Facts"
   ]
  },
  {
   "cell_type": "code",
   "execution_count": 146,
   "metadata": {},
   "outputs": [],
   "source": [
    "# get mars facts\n",
    "url = \"https://space-facts.com/mars/\"\n",
    "mars_table = pd.read_html(url)"
   ]
  },
  {
   "cell_type": "code",
   "execution_count": 147,
   "metadata": {},
   "outputs": [
    {
     "data": {
      "text/plain": [
       "'<table border=\"1\" class=\"dataframe\">\\n  <thead>\\n    <tr style=\"text-align: right;\">\\n      <th></th>\\n      <th>1</th>\\n    </tr>\\n    <tr>\\n      <th>0</th>\\n      <th></th>\\n    </tr>\\n  </thead>\\n  <tbody>\\n    <tr>\\n      <th>Equatorial Diameter:</th>\\n      <td>6,792 km</td>\\n    </tr>\\n    <tr>\\n      <th>Polar Diameter:</th>\\n      <td>6,752 km</td>\\n    </tr>\\n    <tr>\\n      <th>Mass:</th>\\n      <td>6.39 × 10^23 kg (0.11 Earths)</td>\\n    </tr>\\n    <tr>\\n      <th>Moons:</th>\\n      <td>2 (Phobos &amp; Deimos)</td>\\n    </tr>\\n    <tr>\\n      <th>Orbit Distance:</th>\\n      <td>227,943,824 km (1.38 AU)</td>\\n    </tr>\\n    <tr>\\n      <th>Orbit Period:</th>\\n      <td>687 days (1.9 years)</td>\\n    </tr>\\n    <tr>\\n      <th>Surface Temperature:</th>\\n      <td>-87 to -5 °C</td>\\n    </tr>\\n    <tr>\\n      <th>First Record:</th>\\n      <td>2nd millennium BC</td>\\n    </tr>\\n    <tr>\\n      <th>Recorded By:</th>\\n      <td>Egyptian astronomers</td>\\n    </tr>\\n  </tbody>\\n</table>'"
      ]
     },
     "execution_count": 147,
     "metadata": {},
     "output_type": "execute_result"
    }
   ],
   "source": [
    "# import table into df, make df into table ... ok\n",
    "mars_facts=mars_table[1]\n",
    "mars_facts.set_index(0, inplace=True)\n",
    "mars_facts = mars_facts.to_html()\n",
    "mars_facts"
   ]
  },
  {
   "cell_type": "markdown",
   "metadata": {},
   "source": [
    "### Mars Hemispheres"
   ]
  },
  {
   "cell_type": "code",
   "execution_count": 182,
   "metadata": {},
   "outputs": [],
   "source": [
    "# go to USGS Astrogeology get html\n",
    "url = \"https://astrogeology.usgs.gov/search/results?q=hemisphere+enhanced&k1=target&v1=Mars\"\n",
    "# get the base url\n",
    "base_url = \"{0.scheme}://{0.netloc}\".format(urlsplit(url))"
   ]
  },
  {
   "cell_type": "code",
   "execution_count": 183,
   "metadata": {},
   "outputs": [],
   "source": [
    "browser.visit(url)\n",
    "html = browser.html\n",
    "page_to_parse = bs(html,\"html.parser\")"
   ]
  },
  {
   "cell_type": "code",
   "execution_count": 184,
   "metadata": {},
   "outputs": [
    {
     "data": {
      "text/plain": [
       "[{'title': 'Cerberus Hemisphere Enhanced',\n",
       "  'img_url': 'https://astrogeology.usgs.gov/cache/images/cfa62af2557222a02478f1fcd781d445_cerberus_enhanced.tif_full.jpg'},\n",
       " {'title': 'Schiaparelli Hemisphere Enhanced',\n",
       "  'img_url': 'https://astrogeology.usgs.gov/cache/images/3cdd1cbf5e0813bba925c9030d13b62e_schiaparelli_enhanced.tif_full.jpg'},\n",
       " {'title': 'Syrtis Major Hemisphere Enhanced',\n",
       "  'img_url': 'https://astrogeology.usgs.gov/cache/images/ae209b4e408bb6c3e67b6af38168cf28_syrtis_major_enhanced.tif_full.jpg'},\n",
       " {'title': 'Valles Marineris Hemisphere Enhanced',\n",
       "  'img_url': 'https://astrogeology.usgs.gov/cache/images/7cf2da4bf549ed01c17f206327be4db7_valles_marineris_enhanced.tif_full.jpg'}]"
      ]
     },
     "execution_count": 184,
     "metadata": {},
     "output_type": "execute_result"
    }
   ],
   "source": [
    "# collect titles and links to hemisphere_image_urls\n",
    "hemisphere_image_urls = []\n",
    "hemisphere_image_urls_titles = []\n",
    "hemisphere_image_urls_images = []\n",
    "img_urls = []\n",
    "\n",
    "# collect container divs with links and titles\n",
    "item_div = page_to_parse.find_all('div', class_='item')\n",
    "\n",
    "# iterate through containers\n",
    "for item in item_div: \n",
    "# grab title\n",
    "    title = item.find('h3').text\n",
    "# collect links\n",
    "    img_urls.append(item.find('a', class_='product-item')['href'])\n",
    "    hemisphere_image_urls_titles.append(title)\n",
    "\n",
    "# visit collected links to gather large image links\n",
    "for link in img_urls:\n",
    "    browser.visit(base_url + link)\n",
    "    img_html = browser.html\n",
    "    page_to_parse = bs(img_html, 'html.parser')\n",
    "# collect links\n",
    "    full_img_url = base_url + page_to_parse.find('img', class_='wide-image')['src']\n",
    "    hemisphere_image_urls_images.append(full_img_url)\n",
    "    \n",
    "for url, title in zip(hemisphere_image_urls_images, hemisphere_image_urls_titles):\n",
    "    hemisphere_image_urls.append({\"title\" : title, \"img_url\" : url})\n",
    "\n",
    "hemisphere_image_urls"
   ]
  },
  {
   "cell_type": "code",
   "execution_count": null,
   "metadata": {},
   "outputs": [],
   "source": []
  }
 ],
 "metadata": {
  "kernelspec": {
   "display_name": "Python [conda env:.conda-PythonData] *",
   "language": "python",
   "name": "conda-env-.conda-PythonData-py"
  },
  "language_info": {
   "codemirror_mode": {
    "name": "ipython",
    "version": 3
   },
   "file_extension": ".py",
   "mimetype": "text/x-python",
   "name": "python",
   "nbconvert_exporter": "python",
   "pygments_lexer": "ipython3",
   "version": "3.6.8"
  }
 },
 "nbformat": 4,
 "nbformat_minor": 2
}
